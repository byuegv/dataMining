{
  "nbformat": 4,
  "nbformat_minor": 0,
  "metadata": {
    "kernelspec": {
      "display_name": "Python 3",
      "language": "python",
      "name": "python3"
    },
    "language_info": {
      "codemirror_mode": {
        "name": "ipython",
        "version": 3
      },
      "file_extension": ".py",
      "mimetype": "text/x-python",
      "name": "python",
      "nbconvert_exporter": "python",
      "pygments_lexer": "ipython3",
      "version": "3.7.4"
    },
    "colab": {
      "name": "fpaadm.ipynb",
      "provenance": [],
      "toc_visible": true
    }
  },
  "cells": [
    {
      "cell_type": "markdown",
      "metadata": {
        "id": "p2Yoiq2jiiTD",
        "colab_type": "text"
      },
      "source": [
        "# 互评作业2: 频繁模式与关联规则挖掘\n",
        "## 作业说明\n",
        "1. 问题描述\n",
        "> 本次作业中，将选择1个数据集进行频繁模式和关联规则挖掘。\n",
        "\n",
        "2. 数据说明\n",
        "> 数据集包括：\n",
        "Consumer & Visitor Insights For Neighborhoods  \n",
        "Wine Reviews  \n",
        "Oakland Crime Statistics 2011 to 2016  \n",
        "Chicago Building Violations  \n",
        "Trending YouTube Video Statistics  \n",
        "Melbourne Airbnb Open Data  \n",
        "MLB Pitch Data 2015-2018  \n",
        "与第一次互评作业的数据集范围是相同的，在选择的时候可以选择之前预处理的数据集，也可以重新选择一个。  \n",
        "\n",
        "3. 数据分析要求\n",
        "> 对数据集进行处理，转换成适合进行关联规则挖掘的形式；  \n",
        "找出频繁模式； \n",
        "导出关联规则，计算其支持度和置信度;  \n",
        "对规则进行评价，可使用Lift、卡方和其它教材中提及的指标, 至少2种；  \n",
        "对挖掘结果进行分析；  \n",
        "可视化展示。\n",
        "\n",
        "4. 提交的内容\n",
        "> 对数据集进行处理的代码  \n",
        "关联规则挖掘的代码  \n",
        "挖掘过程的报告：展示挖掘的过程、结果和你的分析  \n",
        "所选择的数据集在README中说明，数据文件不要上传到Github中  "
      ]
    },
    {
      "cell_type": "markdown",
      "metadata": {
        "id": "0DiuuOWa_5pJ",
        "colab_type": "text"
      },
      "source": [
        "## 数据集 Oakland Crime Statistics 2011 to 2016\n",
        "### Content\n",
        "More details about each file are in the individual file descriptions.\n",
        "\n",
        "### Context\n",
        "This is a dataset hosted by the city of Oakland in California. The organization has an open data platform found here and they update their information according to the amount of data that is brought in. Explore Oakland's Data using Kaggle and all of the data sources available through the city of Oakland organization page!\n",
        "\n",
        "+ Update Frequency: This dataset is updated daily.\n",
        "\n",
        "### Acknowledgements\n",
        "This dataset is maintained using Socrata's API and Kaggle's API. Socrata has assisted countless organizations with hosting their open data and has been an integral part of the process of bringing more data to the public.\n",
        "\n",
        "This dataset is distributed under the following licenses: Open Data Commons Public Domain Dedication and License, NA"
      ]
    },
    {
      "cell_type": "code",
      "metadata": {
        "id": "KO8V8UeZi2hO",
        "colab_type": "code",
        "colab": {
          "base_uri": "https://localhost:8080/",
          "height": 122
        },
        "outputId": "fb0d5380-b682-4b28-aa76-2f38fa36712b"
      },
      "source": [
        "import os\n",
        "from google.colab import drive\n",
        "drive.mount('/content/drive') # mount google drive\n",
        "co_path = '/content/drive/My Drive/Colab Notebooks/dataMining'\n",
        "os.chdir(co_path)\n",
        "os.listdir(co_path)"
      ],
      "execution_count": 53,
      "outputs": [
        {
          "output_type": "stream",
          "text": [
            "Drive already mounted at /content/drive; to attempt to forcibly remount, call drive.mount(\"/content/drive\", force_remount=True).\n"
          ],
          "name": "stdout"
        },
        {
          "output_type": "execute_result",
          "data": {
            "text/plain": [
              "['cbg_patterns.csv',\n",
              " 'wine-reviews',\n",
              " 'oakland-crime-statistics-2011-to-2016',\n",
              " 'ocs_result']"
            ]
          },
          "metadata": {
            "tags": []
          },
          "execution_count": 53
        }
      ]
    },
    {
      "cell_type": "code",
      "metadata": {
        "id": "oVcpQ6hejTs_",
        "colab_type": "code",
        "colab": {
          "base_uri": "https://localhost:8080/",
          "height": 34
        },
        "outputId": "f30cdbe8-ec27-4bc0-a01f-f6b0d580941a"
      },
      "source": [
        "!pip3 install tqdm"
      ],
      "execution_count": 54,
      "outputs": [
        {
          "output_type": "stream",
          "text": [
            "Requirement already satisfied: tqdm in /usr/local/lib/python3.6/dist-packages (4.41.1)\n"
          ],
          "name": "stdout"
        }
      ]
    },
    {
      "cell_type": "code",
      "metadata": {
        "id": "QFbhV90FiiTE",
        "colab_type": "code",
        "colab": {}
      },
      "source": [
        "import numpy as np\n",
        "import scipy as sp\n",
        "import pandas as pd\n",
        "import matplotlib.pyplot as plt\n",
        "import seaborn as sns\n",
        "import json\n",
        "import math\n",
        "import re\n",
        "import sys\n",
        "import csv\n",
        "import os"
      ],
      "execution_count": 0,
      "outputs": []
    },
    {
      "cell_type": "markdown",
      "metadata": {
        "id": "r8pEIq_3ASFm",
        "colab_type": "text"
      },
      "source": [
        "### Apriori算法\n",
        "Apriori 算法流程如下  \n",
        "![Apriori](images/apriori-alg.png)\n",
        "\n",
        "### 关联规则\n",
        "1. 支持度\n",
        "$$Sup(x)=\\frac{count(X)}{all_data}$$\n",
        "2. 执行度\n",
        "$$conf(X \\to Y)=\\frac{Sup(X \\cup Y}{Sup(X)}$$\n",
        "3. Lift\n",
        "$$lift(X \\to Y)=\\frac{Sup(X \\cup Y}{Sup(X) \\times Sup(Y)}$$\n",
        "4. Jaccard\n",
        "$$Jaccard(X \\to Y) = \\frac{X \\cup Y}{Sup(X) + Sup(Y) - Sup(X \\cup Y)}$$\n"
      ]
    },
    {
      "cell_type": "code",
      "metadata": {
        "id": "cJZuC5aliiTI",
        "colab_type": "code",
        "colab": {}
      },
      "source": [
        "from tqdm import tqdm\n",
        "from progressbar import *\n",
        "\n",
        "class Association(object):\n",
        "    #首先找出所有频繁项集，然后由频繁项集产生强关联规则\n",
        "    def __init__(self, min_support = 0.1, min_confidence = 0.5):\n",
        "        self.min_support = min_support         # 最小支持度\n",
        "        self.min_confidence = min_confidence   #  最小置信度\n",
        "\n",
        "    def apriori(self, dataset):\n",
        "        \"\"\"\n",
        "        Apriori algorithm\n",
        "        dataset:数据集，类型为一个list，list中每个元素是一个dict，key为属性名，value为对应属性的取值\n",
        "        返回生成的频繁项集\n",
        "        \"\"\"\n",
        "        C1 = self.create_C1(dataset)\n",
        "        dataset = [set(data) for data in dataset]\n",
        "        L1, support_data = self.scan_D(dataset, C1)\n",
        "        L = [L1]\n",
        "        k = 2\n",
        "        while len(L[k-2]) > 0:\n",
        "            Ck = self.apriori_gen(L[k-2], k)\n",
        "            Lk, support_k = self.scan_D(dataset, Ck)\n",
        "            support_data.update(support_k)\n",
        "            L.append(Lk)\n",
        "            k += 1\n",
        "        return L, support_data\n",
        "\n",
        "    def create_C1(self, dataset):\n",
        "        \"\"\"\n",
        "        构建全部可能的单元素候选项集合(list)\n",
        "        每个单元素候选项：（属性名，属性取值）\n",
        "        \"\"\"\n",
        "        C1 = []\n",
        "        progress = ProgressBar()\n",
        "        for data in progress(dataset):\n",
        "            for item in data:\n",
        "                if [item] not in C1:\n",
        "                    C1.append([item])\n",
        "        return [frozenset(item) for item in C1]\n",
        "\n",
        "    def scan_D(self, dataset, Ck):\n",
        "        \"\"\"\n",
        "        根据待选项集Ck的情况，判断数据集D中Ck元素的出现频率\n",
        "        过滤掉低于最小支持度的项集\n",
        "        \"\"\"\n",
        "        Ck_count = dict()\n",
        "        for data in dataset:\n",
        "            for cand in Ck:\n",
        "                if cand.issubset(data):\n",
        "                    if cand not in Ck_count:\n",
        "                        Ck_count[cand] = 1\n",
        "                    else:\n",
        "                        Ck_count[cand] += 1\n",
        "\n",
        "        num_items = float(len(dataset))\n",
        "        return_list = []\n",
        "        support_data = dict()\n",
        "        # 过滤非频繁项集\n",
        "        for key in Ck_count:\n",
        "            support  = Ck_count[key] / num_items\n",
        "            if support >= self.min_support:\n",
        "                return_list.insert(0, key)\n",
        "            support_data[key] = support\n",
        "        return return_list, support_data\n",
        "\n",
        "    def apriori_gen(self, Lk, k):\n",
        "        #合并元素时容易出现重复,针对包含k个元素的频繁项集，对比每个频繁项集第k-2位是否一致\n",
        "        return_list = []\n",
        "        len_Lk = len(Lk)\n",
        "        for i in range(len_Lk):\n",
        "            for j in range(i+1, len_Lk):\n",
        "                # 第k-2个项相同时，将两个集合合并\n",
        "                L1 = list(Lk[i])[:k-2]\n",
        "                L2 = list(Lk[j])[:k-2]\n",
        "                L1.sort()\n",
        "                L2.sort()\n",
        "                if L1 == L2:\n",
        "                    return_list.append(Lk[i] | Lk[j])\n",
        "        return return_list\n",
        "\n",
        "    def generate_rules(self, L, support_data):\n",
        "        \"\"\"\n",
        "        强关联规则\n",
        "        基于Apriori算法，首先从一个频繁项集开始，接着创建一个规则列表，\n",
        "        其中规则右部只包含一个元素，然后对这些规则进行测试。\n",
        "        接下来合并所有的剩余规则列表来创建一个新的规则列表，\n",
        "        其中规则右部包含两个元素。这种方法称作分级法。\n",
        "        L: 频繁项集\n",
        "        support_data: 频繁项集对应的支持度\n",
        "        返回强关联规则列表\n",
        "        \"\"\"\n",
        "        big_rules_list = []\n",
        "        for i in range(1, len(L)):\n",
        "            for freq_set in L[i]:\n",
        "                H1 = [frozenset([item]) for item in freq_set]\n",
        "                # 只获取有两个或更多元素的集合\n",
        "                if i > 1:\n",
        "                    self.rules_from_conseq(freq_set, H1, support_data, big_rules_list)\n",
        "                else:\n",
        "                    self.cal_conf(freq_set, H1, support_data, big_rules_list)\n",
        "        return big_rules_list\n",
        "\n",
        "    def rules_from_conseq(self, freq_set, H, support_data, big_rules_list):\n",
        "        # H->出现在规则右部的元素列表\n",
        "        m = len(H[0])\n",
        "        if len(freq_set) > (m+1):\n",
        "            Hmp1 = self.apriori_gen(H, m+1)\n",
        "            Hmp1 = self.cal_conf(freq_set, Hmp1, support_data, big_rules_list)\n",
        "            if len(Hmp1) > 1:\n",
        "                self.rules_from_conseq(freq_set, Hmp1, support_data, big_rules_list)\n",
        "\n",
        "    def cal_conf(self, freq_set, H, support_data, big_rules_list):\n",
        "        # 评估生成的规则\n",
        "        prunedH = []\n",
        "        for conseq in H:\n",
        "            sup = support_data[freq_set]\n",
        "            conf = sup / support_data[freq_set - conseq]\n",
        "            lift = conf / support_data[freq_set - conseq]\n",
        "            jaccard = sup / (support_data[freq_set - conseq] + support_data[conseq] - sup)\n",
        "            if conf >= self.min_confidence:\n",
        "                big_rules_list.append((freq_set-conseq, conseq, sup, conf, lift,jaccard))\n",
        "                prunedH.append(conseq)\n",
        "        return prunedH"
      ],
      "execution_count": 0,
      "outputs": []
    },
    {
      "cell_type": "code",
      "metadata": {
        "id": "rEV0P8mniiTS",
        "colab_type": "code",
        "colab": {}
      },
      "source": [
        "class OCS_dataset():\n",
        "    def __init__(self,data_file_path,result_path,feature_list=None):\n",
        "        self.data_file_path = data_file_path\n",
        "        self.feature_list = feature_list\n",
        "        self.result_path = result_path\n",
        "\n",
        "    def set_feature_list(self,feature_list):\n",
        "        self.feature_list = feature_list\n",
        "        \n",
        "    def set_data_file_path(self,data_file_path):\n",
        "        self.data_file_path = data_file_path\n",
        "    \n",
        "    def set_result_path(result_path):\n",
        "        self.result_path = result_path\n",
        "    \n",
        "    def data_read(self):\n",
        "\n",
        "        data2011 = pd.read_csv(self.data_file_path+\"/records-for-2011.csv\", encoding=\"utf-8\")\n",
        "        data2012 = pd.read_csv(self.data_file_path+\"/records-for-2012.csv\", encoding=\"utf-8\")\n",
        "        data2013 = pd.read_csv(self.data_file_path+\"/records-for-2013.csv\", encoding=\"utf-8\")\n",
        "        data2014 = pd.read_csv(self.data_file_path+\"/records-for-2014.csv\", encoding=\"utf-8\")\n",
        "        data2015 = pd.read_csv(self.data_file_path+\"/records-for-2015.csv\", encoding=\"utf-8\")\n",
        "        data2016 = pd.read_csv(self.data_file_path+\"/records-for-2016.csv\", encoding=\"utf-8\")\n",
        "\n",
        "        \"\"\"\n",
        "        print(data11.info()); print(data12.info()); print(data13.info());\n",
        "        print(data14.info()); print(data15.info()); print(data16.info());\n",
        "        \"\"\"\n",
        "        \n",
        "        data2012.rename(columns={\"Location 1\": \"Location\"}, inplace = True)\n",
        "        data2013.rename(columns={\"Location \": \"Location\"}, inplace = True)\n",
        "        data2014.rename(columns={\"Location 1\": \"Location\"}, inplace = True)\n",
        "\n",
        "        order=[\"Agency\", \"Location\", \"Area Id\", \"Beat\", \"Priority\", \n",
        "               \"Incident Type Id\", \"Incident Type Description\", \"Event Number\"]\n",
        "        data2011_2 = data2011[order]; data2012_2 = data2012[order]; data2013_2 = data2013[order]\n",
        "        data2014_2 = data2014[order]; data2015_2 = data2015[order]; data2016_2 = data2016[order]\n",
        "\n",
        "        data_all = pd.concat([data2011_2, data2012_2, data2013_2, data2014_2, data2015_2, data2016_2],\n",
        "                             axis=0)\n",
        "        print(\"合并后的数据集:\"); print(data_all.info())\n",
        "        data_all = data_all.dropna(how='any')\n",
        "\n",
        "        return data_all\n",
        "\n",
        "\n",
        "    def mining(self,min_support = 0.1, min_confidence = 0.5,head_n=None):\n",
        "        out_path = self.result_path\n",
        "        association = Association(min_support=min_support,min_confidence=min_confidence)\n",
        "        data_all = self.data_read()\n",
        "        rows = None\n",
        "        if head_n is None:\n",
        "          rows = data_all.values.tolist()\n",
        "        else:\n",
        "          rows = data_all.head(head_n).values.tolist()\n",
        "\n",
        "        # 将数据转为数据字典存储\n",
        "        dataset = []\n",
        "        feature_names = [\"Agency\", \"Location\", \"Area Id\", \"Beat\", \"Priority\", \n",
        "                             \"Incident Type Id\", \"Incident Type Description\", \"Event Number\"]\n",
        "        for data_line in rows:\n",
        "            data_set = []\n",
        "            for i, value in enumerate(data_line):\n",
        "                if not value:\n",
        "                    data_set.append((feature_names[i], 'NA'))\n",
        "                else:\n",
        "                    data_set.append((feature_names[i], value))\n",
        "            dataset.append(data_set)\n",
        "        print(\"挖掘开始\")\n",
        "        # 获取频繁项集\n",
        "        freq_set, sup_rata = association.apriori(dataset)\n",
        "        sup_rata_out = sorted(sup_rata.items(), key=lambda d: d[1], reverse=True)\n",
        "        # 获取强关联规则列表\n",
        "        strong_rules_list = association.generate_rules(freq_set, sup_rata)\n",
        "        strong_rules_list = sorted(strong_rules_list, key=lambda x: x[3], reverse=True)\n",
        "\n",
        "        print(\"挖掘完成！\")\n",
        "        # 将频繁项集输出到结果文件\n",
        "        freq_set_file = open(os.path.join(out_path, 'fterms.json'), 'w')\n",
        "        for (key, value) in sup_rata_out:\n",
        "            result_dict = {'set': None, 'sup': None}\n",
        "            set_result = list(key)\n",
        "            sup_result = value\n",
        "            if sup_result < association.min_support:\n",
        "                continue\n",
        "            result_dict['set'] = set_result\n",
        "            result_dict['sup'] = sup_result\n",
        "            json_str = json.dumps(result_dict, ensure_ascii=False)\n",
        "            freq_set_file.write(json_str + '\\n')\n",
        "        freq_set_file.close()\n",
        "\n",
        "        # 将关联规则输出到结果文件\n",
        "        rules_file = open(os.path.join(out_path, 'rules.json'), 'w')\n",
        "        for result in strong_rules_list:\n",
        "            result_dict = {'X_set': None, 'Y_set': None, 'sup': None, 'conf': None, 'lift': None, 'jaccard': None}\n",
        "            X_set, Y_set, sup, conf, lift, jaccard = result\n",
        "            result_dict['X_set'] = list(X_set)\n",
        "            result_dict['Y_set'] = list(Y_set)\n",
        "            result_dict['sup'] = sup\n",
        "            result_dict['conf'] = conf\n",
        "            result_dict['lift'] = lift\n",
        "            result_dict['jaccard'] = jaccard\n",
        "\n",
        "            json_str = json.dumps(result_dict, ensure_ascii=False)\n",
        "            rules_file.write(json_str + '\\n')\n",
        "        rules_file.close()\n",
        "        print(\"结果存储完成！\")"
      ],
      "execution_count": 0,
      "outputs": []
    },
    {
      "cell_type": "code",
      "metadata": {
        "id": "ivZMIe6uiiTW",
        "colab_type": "code",
        "colab": {
          "base_uri": "https://localhost:8080/",
          "height": 374
        },
        "outputId": "51073ed8-c9e3-4c6b-f731-c7540d93d643"
      },
      "source": [
        "ocs = OCS_dataset(data_file_path=\"./oakland-crime-statistics-2011-to-2016\",\n",
        "                 result_path=\"./ocs_result\")\n",
        "ocs.mining(min_support = 0.1, min_confidence = 0.5,head_n=50000)"
      ],
      "execution_count": 40,
      "outputs": [
        {
          "output_type": "stream",
          "text": [
            "合并后的数据集:\n",
            "<class 'pandas.core.frame.DataFrame'>\n",
            "Int64Index: 1046388 entries, 0 to 110827\n",
            "Data columns (total 8 columns):\n",
            " #   Column                     Non-Null Count    Dtype  \n",
            "---  ------                     --------------    -----  \n",
            " 0   Agency                     1046384 non-null  object \n",
            " 1   Location                   1046276 non-null  object \n",
            " 2   Area Id                    864023 non-null   object \n",
            " 3   Beat                       1040583 non-null  object \n",
            " 4   Priority                   1046384 non-null  float64\n",
            " 5   Incident Type Id           1046384 non-null  object \n",
            " 6   Incident Type Description  1045996 non-null  object \n",
            " 7   Event Number               1046384 non-null  object \n",
            "dtypes: float64(1), object(7)\n",
            "memory usage: 71.8+ MB\n",
            "None\n"
          ],
          "name": "stdout"
        },
        {
          "output_type": "stream",
          "text": [
            "  2% (1253 of 50000) |                   | Elapsed Time: 0:00:00 ETA:   0:00:06"
          ],
          "name": "stderr"
        },
        {
          "output_type": "stream",
          "text": [
            "挖掘开始\n"
          ],
          "name": "stdout"
        },
        {
          "output_type": "stream",
          "text": [
            "100% (50000 of 50000) |##################| Elapsed Time: 0:01:39 Time:  0:01:39\n"
          ],
          "name": "stderr"
        },
        {
          "output_type": "stream",
          "text": [
            "挖掘完成！\n",
            "结果存储完成！\n"
          ],
          "name": "stdout"
        }
      ]
    },
    {
      "cell_type": "markdown",
      "metadata": {
        "id": "aWyixUHfFKXJ",
        "colab_type": "text"
      },
      "source": [
        "## 结果可视化"
      ]
    },
    {
      "cell_type": "code",
      "metadata": {
        "id": "ru7ZlqmKiiTa",
        "colab_type": "code",
        "colab": {
          "base_uri": "https://localhost:8080/",
          "height": 572
        },
        "outputId": "9d0d9a06-24a2-4890-bbf4-e75eb7368364"
      },
      "source": [
        "with open(\"./ocs_result/fterms.json\") as f1:\n",
        "  freq = [json.loads(each) for each in f1.readlines()]\n",
        "  freq_sup = [each[\"sup\"] for each in freq]\n",
        "  plt.figure()\n",
        "  plt.title(\"Frequent item\")\n",
        "  plt.boxplot(freq_sup)\n",
        "  plt.show()\n",
        "\n",
        "with open(\"./ocs_result/rules.json\") as f2:\n",
        "  rules = [json.loads(each) for each in f2.readlines()]\n",
        "  rules_sup = [each[\"sup\"] for each in rules]\n",
        "  rules_conf = [each[\"conf\"] for each in rules]\n",
        "  fig=plt.figure(\"rule\")\n",
        "  ax=fig.add_axes([0.1,0.1,0.8,0.8])\n",
        "  ax.set_title(\"Rules\")\n",
        "  ax.scatter(rules_sup, rules_conf, marker='o', color='green')\n",
        "  ax.set_xlabel(\"Support\")\n",
        "  ax.set_ylabel(\"Confidence\")\n",
        "  plt.show()"
      ],
      "execution_count": 75,
      "outputs": [
        {
          "output_type": "display_data",
          "data": {
            "image/png": "[encoded data removed]",
            "text/plain": [
              "<Figure size 432x288 with 1 Axes>"
            ]
          },
          "metadata": {
            "tags": [],
            "needs_background": "light"
          }
        },
        {
          "output_type": "display_data",
          "data": {
            "image/png": "[encoded data removed]",
            "text/plain": [
              "<Figure size 432x288 with 1 Axes>"
            ]
          },
          "metadata": {
            "tags": [],
            "needs_background": "light"
          }
        }
      ]
    },
    {
      "cell_type": "markdown",
      "metadata": {
        "id": "cv59tUjdFUjs",
        "colab_type": "text"
      },
      "source": [
        "## 挖掘结果分析\n",
        "### 频繁项集\n",
        "将频繁项集按照支持度由大到小排序，结果如下："
      ]
    },
    {
      "cell_type": "code",
      "metadata": {
        "id": "rloP9MOPFq_w",
        "colab_type": "code",
        "colab": {
          "base_uri": "https://localhost:8080/",
          "height": 357
        },
        "outputId": "aa1f20ef-499f-492c-cc48-73c613759f2b"
      },
      "source": [
        "freq"
      ],
      "execution_count": 73,
      "outputs": [
        {
          "output_type": "execute_result",
          "data": {
            "text/plain": [
              "[{'set': [['Agency', 'OP']], 'sup': 1.0},\n",
              " {'set': [['Priority', 2.0]], 'sup': 0.81442},\n",
              " {'set': [['Priority', 2.0], ['Agency', 'OP']], 'sup': 0.81442},\n",
              " {'set': [['Area Id', 1.0]], 'sup': 0.35754},\n",
              " {'set': [['Area Id', 1.0], ['Agency', 'OP']], 'sup': 0.35754},\n",
              " {'set': [['Area Id', 3.0]], 'sup': 0.35092},\n",
              " {'set': [['Area Id', 3.0], ['Agency', 'OP']], 'sup': 0.35092},\n",
              " {'set': [['Priority', 2.0], ['Area Id', 1.0]], 'sup': 0.29566},\n",
              " {'set': [['Priority', 2.0], ['Area Id', 1.0], ['Agency', 'OP']],\n",
              "  'sup': 0.29566},\n",
              " {'set': [['Area Id', 2.0]], 'sup': 0.29154},\n",
              " {'set': [['Area Id', 2.0], ['Agency', 'OP']], 'sup': 0.29154},\n",
              " {'set': [['Priority', 2.0], ['Area Id', 3.0]], 'sup': 0.27902},\n",
              " {'set': [['Priority', 2.0], ['Area Id', 3.0], ['Agency', 'OP']],\n",
              "  'sup': 0.27902},\n",
              " {'set': [['Priority', 2.0], ['Area Id', 2.0]], 'sup': 0.23974},\n",
              " {'set': [['Priority', 2.0], ['Area Id', 2.0], ['Agency', 'OP']],\n",
              "  'sup': 0.23974},\n",
              " {'set': [['Priority', 1.0]], 'sup': 0.18556},\n",
              " {'set': [['Priority', 1.0], ['Agency', 'OP']], 'sup': 0.18556}]"
            ]
          },
          "metadata": {
            "tags": []
          },
          "execution_count": 73
        }
      ]
    },
    {
      "cell_type": "markdown",
      "metadata": {
        "id": "sMFdNKGeGRU4",
        "colab_type": "text"
      },
      "source": [
        "### 关联规则\n",
        "将关联规则按照置信度由大到小排序，结果如下。\n",
        "分析可知，Ared Id的置信度最高，说明该地区犯罪事实出现最多，而且Area Id与Priority的关联度较高。"
      ]
    },
    {
      "cell_type": "code",
      "metadata": {
        "id": "uOqOy8hRFXlg",
        "colab_type": "code",
        "colab": {
          "base_uri": "https://localhost:8080/",
          "height": 1000
        },
        "outputId": "bb0eb3ce-2624-4f29-ffa1-210d8784e085"
      },
      "source": [
        "rules"
      ],
      "execution_count": 70,
      "outputs": [
        {
          "output_type": "execute_result",
          "data": {
            "text/plain": [
              "[{'X_set': [['Area Id', 3.0]],\n",
              "  'Y_set': [['Agency', 'OP']],\n",
              "  'conf': 1.0,\n",
              "  'jaccard': 0.35092000000000007,\n",
              "  'lift': 2.8496523424142253,\n",
              "  'sup': 0.35092},\n",
              " {'X_set': [['Area Id', 2.0]],\n",
              "  'Y_set': [['Agency', 'OP']],\n",
              "  'conf': 1.0,\n",
              "  'jaccard': 0.2915400000000001,\n",
              "  'lift': 3.4300610550867803,\n",
              "  'sup': 0.29154},\n",
              " {'X_set': [['Priority', 2.0]],\n",
              "  'Y_set': [['Agency', 'OP']],\n",
              "  'conf': 1.0,\n",
              "  'jaccard': 0.81442,\n",
              "  'lift': 1.2278676849782666,\n",
              "  'sup': 0.81442},\n",
              " {'X_set': [['Area Id', 1.0]],\n",
              "  'Y_set': [['Agency', 'OP']],\n",
              "  'conf': 1.0,\n",
              "  'jaccard': 0.35754,\n",
              "  'lift': 2.796889858477373,\n",
              "  'sup': 0.35754},\n",
              " {'X_set': [['Priority', 1.0]],\n",
              "  'Y_set': [['Agency', 'OP']],\n",
              "  'conf': 1.0,\n",
              "  'jaccard': 0.18556,\n",
              "  'lift': 5.389092476826902,\n",
              "  'sup': 0.18556},\n",
              " {'X_set': [['Area Id', 1.0]],\n",
              "  'Y_set': [['Priority', 2.0]],\n",
              "  'conf': 0.82692845555742,\n",
              "  'jaccard': 0.33739586899463647,\n",
              "  'lift': 2.312827811034905,\n",
              "  'sup': 0.29566},\n",
              " {'X_set': [['Area Id', 1.0]],\n",
              "  'Y_set': [['Priority', 2.0], ['Agency', 'OP']],\n",
              "  'conf': 0.82692845555742,\n",
              "  'jaccard': 0.33739586899463647,\n",
              "  'lift': 2.312827811034905,\n",
              "  'sup': 0.29566},\n",
              " {'X_set': [['Area Id', 2.0]],\n",
              "  'Y_set': [['Priority', 2.0]],\n",
              "  'conf': 0.8223228373465047,\n",
              "  'jaccard': 0.2767657177160537,\n",
              "  'lift': 2.8206175390907067,\n",
              "  'sup': 0.23974},\n",
              " {'X_set': [['Area Id', 2.0]],\n",
              "  'Y_set': [['Priority', 2.0], ['Agency', 'OP']],\n",
              "  'conf': 0.8223228373465047,\n",
              "  'jaccard': 0.2767657177160537,\n",
              "  'lift': 2.8206175390907067,\n",
              "  'sup': 0.23974},\n",
              " {'X_set': [['Agency', 'OP']],\n",
              "  'Y_set': [['Priority', 2.0]],\n",
              "  'conf': 0.81442,\n",
              "  'jaccard': 0.81442,\n",
              "  'lift': 0.81442,\n",
              "  'sup': 0.81442},\n",
              " {'X_set': [['Area Id', 3.0]],\n",
              "  'Y_set': [['Priority', 2.0]],\n",
              "  'conf': 0.7951099965804171,\n",
              "  'jaccard': 0.3148072930769925,\n",
              "  'lift': 2.2657870642323523,\n",
              "  'sup': 0.27902},\n",
              " {'X_set': [['Area Id', 3.0]],\n",
              "  'Y_set': [['Priority', 2.0], ['Agency', 'OP']],\n",
              "  'conf': 0.7951099965804171,\n",
              "  'jaccard': 0.3148072930769925,\n",
              "  'lift': 2.2657870642323523,\n",
              "  'sup': 0.27902}]"
            ]
          },
          "metadata": {
            "tags": []
          },
          "execution_count": 70
        }
      ]
    }
  ]
}